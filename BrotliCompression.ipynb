{
  "nbformat": 4,
  "nbformat_minor": 0,
  "metadata": {
    "colab": {
      "provenance": []
    },
    "kernelspec": {
      "name": "python3",
      "display_name": "Python 3"
    },
    "language_info": {
      "name": "python"
    }
  },
  "cells": [
    {
      "cell_type": "code",
      "source": [
        "! pip install Brotli"
      ],
      "metadata": {
        "id": "STvSaL8Lj54c",
        "colab": {
          "base_uri": "https://localhost:8080/"
        },
        "outputId": "bc17ac70-f341-4989-80bb-5162988d428f"
      },
      "execution_count": 2,
      "outputs": [
        {
          "output_type": "stream",
          "name": "stdout",
          "text": [
            "Looking in indexes: https://pypi.org/simple, https://us-python.pkg.dev/colab-wheels/public/simple/\n",
            "Collecting Brotli\n",
            "  Downloading Brotli-1.0.9-cp310-cp310-manylinux_2_5_x86_64.manylinux1_x86_64.manylinux_2_12_x86_64.manylinux2010_x86_64.whl (2.7 MB)\n",
            "\u001b[2K     \u001b[90m━━━━━━━━━━━━━━━━━━━━━━━━━━━━━━━━━━━━━━━━\u001b[0m \u001b[32m2.7/2.7 MB\u001b[0m \u001b[31m22.7 MB/s\u001b[0m eta \u001b[36m0:00:00\u001b[0m\n",
            "\u001b[?25hInstalling collected packages: Brotli\n",
            "Successfully installed Brotli-1.0.9\n"
          ]
        }
      ]
    },
    {
      "cell_type": "code",
      "source": [
        "! pip install base91"
      ],
      "metadata": {
        "colab": {
          "base_uri": "https://localhost:8080/"
        },
        "id": "xTTQ-ieruWmK",
        "outputId": "3785ec7d-c33b-49c9-b84c-41e70041b0e4"
      },
      "execution_count": 3,
      "outputs": [
        {
          "output_type": "stream",
          "name": "stdout",
          "text": [
            "Looking in indexes: https://pypi.org/simple, https://us-python.pkg.dev/colab-wheels/public/simple/\n",
            "Collecting base91\n",
            "  Downloading base91-1.0.1-py3-none-any.whl (3.4 kB)\n",
            "Installing collected packages: base91\n",
            "Successfully installed base91-1.0.1\n"
          ]
        }
      ]
    },
    {
      "cell_type": "code",
      "source": [
        "! pip install huffman"
      ],
      "metadata": {
        "colab": {
          "base_uri": "https://localhost:8080/"
        },
        "id": "S1xK2JE2uq9C",
        "outputId": "a60487fd-c331-494d-8cda-7a2f4145ec69"
      },
      "execution_count": 5,
      "outputs": [
        {
          "output_type": "stream",
          "name": "stdout",
          "text": [
            "Looking in indexes: https://pypi.org/simple, https://us-python.pkg.dev/colab-wheels/public/simple/\n",
            "Collecting huffman\n",
            "  Downloading huffman-0.1.2-py2.py3-none-any.whl (4.6 kB)\n",
            "Installing collected packages: huffman\n",
            "Successfully installed huffman-0.1.2\n"
          ]
        }
      ]
    },
    {
      "cell_type": "code",
      "source": [
        "! pip install dahuffman"
      ],
      "metadata": {
        "colab": {
          "base_uri": "https://localhost:8080/"
        },
        "id": "4vQIrA7Iu0LE",
        "outputId": "c255f0f7-42c6-454b-870a-b7914c75a752"
      },
      "execution_count": 7,
      "outputs": [
        {
          "output_type": "stream",
          "name": "stdout",
          "text": [
            "Looking in indexes: https://pypi.org/simple, https://us-python.pkg.dev/colab-wheels/public/simple/\n",
            "Collecting dahuffman\n",
            "  Downloading dahuffman-0.4.1-py2.py3-none-any.whl (18 kB)\n",
            "Installing collected packages: dahuffman\n",
            "Successfully installed dahuffman-0.4.1\n"
          ]
        }
      ]
    },
    {
      "cell_type": "code",
      "source": [
        "! pip install bitarray"
      ],
      "metadata": {
        "colab": {
          "base_uri": "https://localhost:8080/"
        },
        "id": "0lHQv_guIx-L",
        "outputId": "29694437-8358-4b8a-d4f7-95251b0fd038"
      },
      "execution_count": 28,
      "outputs": [
        {
          "output_type": "stream",
          "name": "stdout",
          "text": [
            "Looking in indexes: https://pypi.org/simple, https://us-python.pkg.dev/colab-wheels/public/simple/\n",
            "Collecting bitarray\n",
            "  Downloading bitarray-2.7.4-cp310-cp310-manylinux_2_17_x86_64.manylinux2014_x86_64.whl (273 kB)\n",
            "\u001b[2K     \u001b[90m━━━━━━━━━━━━━━━━━━━━━━━━━━━━━━━━━━━━━━━\u001b[0m \u001b[32m273.7/273.7 kB\u001b[0m \u001b[31m5.6 MB/s\u001b[0m eta \u001b[36m0:00:00\u001b[0m\n",
            "\u001b[?25hInstalling collected packages: bitarray\n",
            "Successfully installed bitarray-2.7.4\n"
          ]
        }
      ]
    },
    {
      "cell_type": "markdown",
      "source": [
        "Deflate"
      ],
      "metadata": {
        "id": "SJLopw4wXpXS"
      }
    },
    {
      "cell_type": "code",
      "source": [
        "import zlib\n",
        "import base64\n",
        "\n",
        "def compress_and_encode_string(input_string):\n",
        "    # Compress the input string using Deflate compression algorithm\n",
        "    compressor = zlib.compressobj(level=9, method=zlib.DEFLATED, wbits=-zlib.MAX_WBITS)\n",
        "    compressed_data = compressor.compress(input_string.encode()) + compressor.flush()\n",
        "\n",
        "    # Encode the compressed data using Base64 encoding\n",
        "    encoded_data = base64.b64encode(compressed_data).decode()\n",
        "\n",
        "    # Calculate the lengths of the input and encoded string\n",
        "    input_length = len(input_string)\n",
        "    encoded_length = len(encoded_data)\n",
        "\n",
        "    # Calculate the percentage of compression\n",
        "    compression_percentage = (1 - encoded_length / input_length) * 100\n",
        "\n",
        "    return encoded_data, input_length, encoded_length, compression_percentage\n",
        "\n",
        "\n",
        "# Example usage\n",
        "input_string = \"Ford Motor Company (commonly known as Ford) is an American multinational automobile manufacturer headquartered in Dearborn, Michigan, United States. It was founded by Henry Ford and incorporated on June 16, 1903. The company sells automobiles and commercial vehicles under the Ford brand, and luxury cars under its Lincoln brand. Ford also owns Brazilian SUV manufacturer Troller, an 8% stake in Aston Martin of the United Kingdom and a 32% stake in China's Jiangling Motors.[8] It also has joint ventures in China (Changan Ford), Taiwan (Ford Lio Ho), Thailand (AutoAlliance Thailand), and Turkey (Ford Otosan).\"\n",
        "encoded_string, input_length, encoded_length, compression_percentage = compress_and_encode_string(input_string)\n",
        "\n",
        "print(\"Input length:\", input_length)\n",
        "print(\"Encoded length:\", encoded_length)\n",
        "print(\"Compression percentage:\", compression_percentage)\n",
        "print(\"Encoded string:\", encoded_string)\n"
      ],
      "metadata": {
        "colab": {
          "base_uri": "https://localhost:8080/"
        },
        "id": "YGmBmZf7F7TD",
        "outputId": "62945e7c-3513-437e-f901-dc8eaabab675"
      },
      "execution_count": 41,
      "outputs": [
        {
          "output_type": "stream",
          "name": "stdout",
          "text": [
            "Input length: 612\n",
            "Encoded length: 500\n",
            "Compression percentage: 18.300653594771244\n",
            "Encoded string: VVFNbxMxEP0rc0EkUrSiVELlGFJVpTTi0JQL4jDxTrLTeGfK2CYsv56xE6pys8fv+X3MjVoPa81qsNLxGWWCWdBxVIkTHESPApjgxlFz4AQosBzJOPhhLDGzYGYVjIAl66hbjgQjStlhyMXIYCDsfxa0TEY9sMA1oW3VZAFrDgPv0U+PwtlfHzJmSh18znB01Z0W6X28neCWxKZmwy3Ub4LasxpWlgrcFSG4+LCAi4/vLjvYDAThnCZRjOmVu9Q+qBHJArvxXzRwqPMqZpCd23S25sBFQ8fyu7h8QPuH4pzgvrqIcgJ2Z3MxKXhpCT4Z/uHI3tPD47f/K9mYxkhW/4arN5AyHqg2s0zZs6y9K7/orlk5N/OFZd/r2NwgXL5/xVoNvoS3Ce5cax8dd1pn6r5f/ahNNkuD1/mkLNnjSnWRXqgwWw3OdC9tywvYIB/9NmuB7lnhVut0QI5Vfrb0LpexRgv0Mp6fmtoUO9B05n7NmlDm3V8=\n"
          ]
        }
      ]
    },
    {
      "cell_type": "markdown",
      "source": [
        "**Brotli**"
      ],
      "metadata": {
        "id": "PTP4wdaKXxb2"
      }
    },
    {
      "cell_type": "code",
      "source": [
        "import brotli\n",
        "import base64\n",
        "import base91\n",
        "import zlib\n",
        "\n",
        "def compress_and_encode(string):\n",
        "    # Compress the string using Brotli compression algorithm\n",
        "    compressed_data = brotli.compress(string.encode())\n",
        "\n",
        "    # Encode the compressed data using base64\n",
        "    base64_encoded = base64.b64encode(compressed_data).decode()\n",
        "\n",
        "    # Encode the compressed data using base85\n",
        "    base85_encoded = base64.b85encode(compressed_data).decode()\n",
        "\n",
        "    # Encode the compressed data using base91\n",
        "    base91_encoded = base91.encode(compressed_data)\n",
        "\n",
        "    return base64_encoded, base85_encoded, base91_encoded   \n",
        "\n",
        "# Example usage\n",
        "#input_string = \"Ford Motor Company (commonly known as Ford) is an American multinational automobile manufacturer headquartered in Dearborn, Michigan, United States. It was founded by Henry Ford and incorporated on June 16, 1903. The company sells automobiles and commercial vehicles under the Ford brand, and luxury cars under its Lincoln brand. Ford also owns Brazilian SUV manufacturer Troller, an 8% stake in Aston Martin of the United Kingdom and a 32% stake in China's Jiangling Motors.[8] It also has joint ventures in China (Changan Ford), Taiwan (Ford Lio Ho), Thailand (AutoAlliance Thailand), and Turkey (Ford Otosan). The company is listed on the New York Stock Exchange and is controlled by the Ford family; they have minority ownership but the majority of the voting power.\"\n",
        "\n",
        "base64_encoded, base85_encoded, base91_encoded = compress_and_encode(input_string)\n",
        "print(\"Base64 Encoded:\", base64_encoded)\n",
        "print(\"Base85 Encoded:\", base85_encoded)\n",
        "print(\"Base91 Encoded:\", base91_encoded)\n",
        "#print(\"Huffman Encoded:\", huffman_encoded)\n",
        "\n",
        "input_length = len(input_string)\n",
        "base64_length = len(base64_encoded)\n",
        "base85_length = len(base85_encoded)\n",
        "base91_length = len(base91_encoded)\n",
        "\n",
        "print(\"Input Length:\", input_length)\n",
        "print(\"Base64 Encoded Length:\", base64_length)\n",
        "print(\"Base85 Encoded Length:\", base85_length)\n",
        "print(\"Base91 Encoded Length:\", base91_length)\n",
        "\n",
        "# Calculate compression percentages\n",
        "base64_compression_percentage = (1 - (base64_length / input_length)) * 100\n",
        "base85_compression_percentage = (1 - (base85_length / input_length)) * 100\n",
        "base91_compression_percentage = (1 - (base91_length / input_length)) * 100\n",
        "\n",
        "print(\"Base64 Compression Percentage:\", base64_compression_percentage, \"%\")\n",
        "print(\"Base85 Compression Percentage:\", base85_compression_percentage, \"%\")\n",
        "print(\"Base91 Compression Percentage:\", base91_compression_percentage, \"%\")\n"
      ],
      "metadata": {
        "id": "wTPF42CKmX11",
        "colab": {
          "base_uri": "https://localhost:8080/"
        },
        "outputId": "b3627fd3-c95a-4e6e-e20d-0593e9ff6dd3"
      },
      "execution_count": 36,
      "outputs": [
        {
          "output_type": "stream",
          "name": "stdout",
          "text": [
            "Base64 Encoded: G2MCQMQivap28gBKUCH38hg8B3pA3jvx10jL4lM06W2zwSgi6D20TGWTW0YNwC8wboOaYBmpWwJ06zT0cV1Y/1gzWdNmI/jqGkf+kSXoDvoyH+ROYr+Q2pQI9yp0XsdgCAsW98M7Ej5vGoBJRrmRK+92qVpIiQeOPCP50C65ZlEsyKz5BnwlOJkT0Mes8BcG/9gWoVN1lpsN72xBvLxFLtyvQ/BZSOd3doejUuL7wLUsOTi7jVYc9FIHr0PMdbLODlwFQf2bR7XCB8+RVYIw1XlHtSgRg3pUuLUe+Kes8YP6aLPME7OFVE9bFN6xcySHPa9/NypVEcVcdzF26zFo0E91QuYiXtiK9gzIM0IIt7liLh1SugA=\n",
            "Base85 Encoded: 8)E`M#3H?_cJcs9P$Bp77(54hK;Ap?*GS9aQ#9#qv%x4L=smPdWs_S*4ZtrjZiAX&8L3+Wbn7(qaa~ydSTkAEW+V9O8b|(-CFl<NG9TnlV!x2ulnD1KbY90`2n!bX!#ff_ZyJC}M!AtI?{=wLNQnoIJR|wgF1cn=EXb_+27DzrnG?{*tne2G|JW9xQ+1Y`4exA0yu3v&+^<9MSxD!1c88-<;`_k0EIBy4jaD4=QU|X?%yqKP4qOF6{hLR%!UxZhRe~_pc}KM<5rcYExV0Ymr>yaV`e?Jv6SIX>Pg@k;v2!GcJ+FT^Dpe81Tz4^c>oI81Pjy1(B3{^v_6*1~LI}6HVlEw0x&Q\n",
            "Base91 Encoded: (ITAB*|[B8t@Z4L7x=9KMVU/9yJq!s:5`w#wA]72CRCYW>!fq0Vo(YNAJC)m1:\"e]cYNl%n:~V>gQ}e;&!kmUGo8{?l~8Pm%<`u`JoXwlI><MY&&#[ppBRvP(?])az}.1Sp1h5_Y!@:pA;>cbF6+Sz?XcNLk7i2R0`8(1Grj>AMjq)z)9~Y$9[u]R%kvS#@vh&No?{2v^3&55>}^t5wGNW/l4z[2cT:w<`2U]]51<NfkqnsLF~kV{8pFQKEPV)4UMZtYC*O{>u{f`>j0~_1:(<`1cRuXzVCxI>k3%+YrW})J+dC54gMx]=JjaCE7pD5gJhue9V9yjMquQ[=,XKE:FA\n",
            "Input Length: 612\n",
            "Base64 Encoded Length: 372\n",
            "Base85 Encoded Length: 348\n",
            "Base91 Encoded Length: 342\n",
            "Base64 Compression Percentage: 39.21568627450981 %\n",
            "Base85 Compression Percentage: 43.13725490196079 %\n",
            "Base91 Compression Percentage: 44.11764705882353 %\n"
          ]
        }
      ]
    },
    {
      "cell_type": "code",
      "source": [
        "import brotli\n",
        "from collections import Counter\n",
        "from heapq import heappop, heappush\n",
        "import bitarray\n",
        "\n",
        "class HuffmanNode:\n",
        "    def __init__(self, char, frequency):\n",
        "        self.char = char\n",
        "        self.frequency = frequency\n",
        "        self.left = None\n",
        "        self.right = None\n",
        "\n",
        "    def __lt__(self, other):\n",
        "        return self.frequency < other.frequency\n",
        "\n",
        "def build_huffman_tree(data):\n",
        "    # Count the frequency of each character in the data\n",
        "    frequency_counter = Counter(data)\n",
        "\n",
        "    # Create a priority queue (min-heap) of Huffman nodes\n",
        "    priority_queue = []\n",
        "    for char, frequency in frequency_counter.items():\n",
        "        node = HuffmanNode(char, frequency)\n",
        "        heappush(priority_queue, node)\n",
        "\n",
        "    # Build the Huffman tree\n",
        "    while len(priority_queue) > 1:\n",
        "        left_node = heappop(priority_queue)\n",
        "        right_node = heappop(priority_queue)\n",
        "        merged_frequency = left_node.frequency + right_node.frequency\n",
        "        merged_node = HuffmanNode(None, merged_frequency)\n",
        "        merged_node.left = left_node\n",
        "        merged_node.right = right_node\n",
        "        heappush(priority_queue, merged_node)\n",
        "\n",
        "    return priority_queue[0]\n",
        "\n",
        "def build_encoding_table(node, current_code, encoding_table):\n",
        "    if node.char is not None:\n",
        "        encoding_table[node.char] = bitarray.bitarray(current_code)\n",
        "    else:\n",
        "        build_encoding_table(node.left, current_code + '0', encoding_table)\n",
        "        build_encoding_table(node.right, current_code + '1', encoding_table)\n",
        "\n",
        "def compress_and_encode_string(input_string):\n",
        "    # Compress the input string using Brotli compression\n",
        "    compressed_data = brotli.compress(input_string.encode())\n",
        "\n",
        "    # Build Huffman tree\n",
        "    huffman_tree = build_huffman_tree(compressed_data)\n",
        "\n",
        "    # Build encoding table from the Huffman tree\n",
        "    encoding_table = {}\n",
        "    build_encoding_table(huffman_tree, '', encoding_table)\n",
        "\n",
        "    # Encode the compressed data using Huffman encoding\n",
        "    encoded_data = bitarray.bitarray()\n",
        "    encoded_data.encode(encoding_table, compressed_data)\n",
        "\n",
        "    # Calculate the length of the input and encoded string\n",
        "    input_length = len(input_string)\n",
        "    encoded_length = len(encoded_data)\n",
        "\n",
        "    # Calculate the compression percentage\n",
        "    compression_percentage = (1 - (encoded_length / input_length)) * 100\n",
        "\n",
        "    return encoded_data.to01(), input_length, encoded_length, compression_percentage\n",
        "\n",
        "# Example usage\n",
        "input_string = \" GSTDU124     TUDGB4543883 BDHDBJKCCCCCB637736287286735892615193037BJXJNC78290766                     73W674983U4098U934Y5YGEFJBSM,D V,JYGEI7RYTO9UEGFVHBSFBVH ,JHSDFJYGWEIUGUY7T279384629347017Y59816985917093 YRGFJHWBEIUGFIWY4R820937502735097ISUGDFHVD CBNnbasvJGEIUFGOWUEYR98Y49R 9GI SGCGGygawdbjebfkjebgruherofih 3l47tr872yr0397u32r9b cuysjhvfsmhdf ,jhwg3rut23r8y23p9ryhwhefvc hs dvc,jyw\"\n",
        "encoded_string, input_length, encoded_length, compression_percentage = compress_and_encode_string(input_string)\n",
        "\n",
        "print(\"Input Length: \", input_length)\n",
        "print(\"Encoded Length: \", encoded_length)\n",
        "print(\"Compression Percentage: \", compression_percentage)\n",
        "print(\"Encoded String: \", encoded_string)\n"
      ],
      "metadata": {
        "colab": {
          "base_uri": "https://localhost:8080/"
        },
        "id": "wIBK7JGZH-II",
        "outputId": "7f2a0749-69c8-437c-8270-220fb952f33d"
      },
      "execution_count": 32,
      "outputs": [
        {
          "output_type": "stream",
          "name": "stdout",
          "text": [
            "Input Length:  387\n",
            "Encoded Length:  2140\n",
            "Compression Percentage:  -452.9715762273902\n",
            "Encoded String:  0101011101110100100000010101111001001000010000001100010001101111000010000110010000100001010111110011011100111110110101010111010011001101010110101011111101010011110111100000110001110000011001101011010101110011100111001111100001011000111000111011100000100100011001101111111000001011100010111001001010101010011100101100100100110110000000101100001101011011101000010111100011110000110111100110000011001110100111010001000111001111011000110110011000100010011100011000101110000100111010000100100010010111011101111111000111101010011101010111001000110011101101010000100010000001010110101001000100010001101001101111111100100010111000100000110101111111011011110110000101111001011011110010010100011111110001111001010101100010000110001101111001010101101000000101100110100101011101001111111101100100001110000011110110110011011110000110011100011111000011110100011001111110100100101000001110110101111010100110010011001110110011111011011000001101001110011011101101110001001001011010111101000010000001110011110101001000001111110100100000000011111000111110100010001011001111101000010011010101011001100111010110011001010001101000001011101011101010000010011110010011101100111111001111111001011110111010000011100101001100100111111011001111101111100101110110101110110000111010111111010101011101111010110111111100100000000010111101001110111011110111101101100001011011101010101001101011000010110011111111111110001110001010001010101000001001110100101010001111111011010001101101011101110100101101001011111111011110011101011110100100110100110111111011011000011000111110111001010110000110011110000001001001100110111001011110010111111110110100110011100001111100111111101011001011111010000100100001011110110110110111010100100110101000100011100011001110010001011110110010111100110111001101111001111010101100001110001011010001101001010001101101011011010011111010111110011000000101100110111110011110000100101000101101100000001101011100111011100001100111010110110111101101111001010111010010001000000000011000001010010001000010100011101100101001010000000011111110001111110001101000010001111000100111001111010010011101111110101111101000000001100001011111111111100101011000010001\n"
          ]
        }
      ]
    },
    {
      "cell_type": "code",
      "source": [],
      "metadata": {
        "id": "DXePI9roIZH8"
      },
      "execution_count": null,
      "outputs": []
    }
  ]
}