{
 "cells": [
  {
   "cell_type": "code",
   "execution_count": 1,
   "metadata": {},
   "outputs": [
    {
     "name": "stdout",
     "output_type": "stream",
     "text": [
      "Collecting brotlipy\n",
      "  Downloading brotlipy-0.7.0-cp35-abi3-win_amd64.whl (376 kB)\n",
      "     -------------------------------------- 376.3/376.3 kB 7.8 MB/s eta 0:00:00\n",
      "Requirement already satisfied: cffi>=1.0.0 in c:\\users\\91834\\appdata\\local\\packages\\pythonsoftwarefoundation.python.3.10_qbz5n2kfra8p0\\localcache\\local-packages\\python310\\site-packages (from brotlipy) (1.15.1)\n",
      "Requirement already satisfied: pycparser in c:\\users\\91834\\appdata\\local\\packages\\pythonsoftwarefoundation.python.3.10_qbz5n2kfra8p0\\localcache\\local-packages\\python310\\site-packages (from cffi>=1.0.0->brotlipy) (2.21)\n",
      "Installing collected packages: brotlipy\n",
      "Successfully installed brotlipy-0.7.0\n"
     ]
    },
    {
     "name": "stderr",
     "output_type": "stream",
     "text": [
      "\n",
      "[notice] A new release of pip is available: 23.0.1 -> 23.1.2\n",
      "[notice] To update, run: C:\\Users\\91834\\AppData\\Local\\Microsoft\\WindowsApps\\PythonSoftwareFoundation.Python.3.10_qbz5n2kfra8p0\\python.exe -m pip install --upgrade pip\n"
     ]
    },
    {
     "name": "stdout",
     "output_type": "stream",
     "text": [
      "Collecting base91\n",
      "  Downloading base91-1.0.1-py3-none-any.whl (3.4 kB)\n",
      "Installing collected packages: base91\n",
      "Successfully installed base91-1.0.1\n"
     ]
    },
    {
     "name": "stderr",
     "output_type": "stream",
     "text": [
      "\n",
      "[notice] A new release of pip is available: 23.0.1 -> 23.1.2\n",
      "[notice] To update, run: C:\\Users\\91834\\AppData\\Local\\Microsoft\\WindowsApps\\PythonSoftwareFoundation.Python.3.10_qbz5n2kfra8p0\\python.exe -m pip install --upgrade pip\n"
     ]
    }
   ],
   "source": [
    "! pip install brotlipy\n",
    "! pip install base91"
   ]
  },
  {
   "cell_type": "code",
   "execution_count": 27,
   "metadata": {},
   "outputs": [
    {
     "name": "stdout",
     "output_type": "stream",
     "text": [
      "Deflate compression:\n",
      "Input file size: 2.07 MB\n",
      "Compressed file size: 0.30 MB\n",
      "Reduction in size: 85.44%\n",
      "Time taken: 0.0461 seconds\n",
      "\n",
      "Brotli compression:\n",
      "Input file size: 2.07 MB\n",
      "Compressed file size: 0.20 MB\n",
      "Reduction in size: 90.47%\n",
      "Time taken: 0.0439 seconds\n",
      "Upliftment in compression: 34.52%\n"
     ]
    }
   ],
   "source": [
    "import brotli\n",
    "import zlib\n",
    "import base64\n",
    "import base91\n",
    "import time\n",
    "import os\n",
    "\n",
    "def deflate_compress(input_text):\n",
    "    # Compresses the input text using the Deflate algorithm\n",
    "    start_time = time.time()\n",
    "    compressed_data = zlib.compress(input_text.encode('utf-8'), level = -1)    \n",
    "    end_time = time.time()\n",
    "    return compressed_data, end_time - start_time\n",
    "\n",
    "def brotli_compress(input_text):\n",
    "    # Compresses the input text using the Brotli algorithm\n",
    "    start_time = time.time()\n",
    "    compressed_data = brotli.compress(input_text.encode('utf-8'), mode = 1, quality = 6)\n",
    "    end_time = time.time()\n",
    "    return compressed_data, end_time - start_time\n",
    "\n",
    "def encode_base91(input_data):\n",
    "    # Encodes the input data using Base91 encoding\n",
    "    return base91.encode(input_data)\n",
    "\n",
    "def encode_base64(input_data):\n",
    "    # Encodes the input data using Base64 encoding\n",
    "    return base64.b64encode(input_data).decode('utf-8')\n",
    "\n",
    "def calculate_reduction(original_size, compressed_size):\n",
    "    # Calculates the reduction in size as a percentage\n",
    "    reduction = (original_size - compressed_size) / original_size * 100\n",
    "    return reduction\n",
    "\n",
    "def calculate_upliftment(deflate_size, brotli_size):\n",
    "    # Calculates the upliftment in compression as a percentage\n",
    "    upliftment = ((deflate_size - brotli_size) / deflate_size) * 100\n",
    "    return upliftment\n",
    "\n",
    "def get_file_size(file_path):\n",
    "    # Retrieves the size of the file in megabytes (MB)\n",
    "    size_in_bytes = os.path.getsize(file_path)\n",
    "    size_in_mb = size_in_bytes / (1024 * 1024)\n",
    "    return size_in_mb\n",
    "\n",
    "def compress_and_encode_file(input_file, deflate_output_file, brotli_output_file):\n",
    "    # Compresses the input file using Deflate and Brotli algorithms, encodes the compressed data,\n",
    "    # and saves the encoded data to separate output files\n",
    "    with open(input_file, 'r') as file:\n",
    "        input_text = file.read()\n",
    "\n",
    "    deflate_compressed_data, deflate_time = deflate_compress(input_text)\n",
    "    brotli_compressed_data, brotli_time = brotli_compress(input_text)\n",
    "\n",
    "    encoded_deflate_data = encode_base64(deflate_compressed_data)\n",
    "    encoded_brotli_data = encode_base91(brotli_compressed_data)\n",
    "\n",
    "    with open(deflate_output_file, 'w') as file:\n",
    "        file.write(encoded_deflate_data)\n",
    "\n",
    "    with open(brotli_output_file, 'w') as file:\n",
    "        file.write(encoded_brotli_data)\n",
    "\n",
    "    original_size = get_file_size(input_file)\n",
    "    deflate_size = get_file_size(deflate_output_file)\n",
    "    brotli_size = get_file_size(brotli_output_file)\n",
    "\n",
    "    deflate_reduction = calculate_reduction(original_size, deflate_size)\n",
    "    brotli_reduction = calculate_reduction(original_size, brotli_size)\n",
    "    upliftment = calculate_upliftment(deflate_size, brotli_size)\n",
    "\n",
    "    print(\"Deflate compression:\")\n",
    "    print(\"Input file size: {:.2f} MB\".format(original_size))\n",
    "    print(\"Compressed file size: {:.2f} MB\".format(deflate_size))\n",
    "    print(\"Reduction in size: {:.2f}%\".format(deflate_reduction))\n",
    "    print(\"Time taken: {:.4f} seconds\".format(deflate_time))\n",
    "    print()\n",
    "\n",
    "    print(\"Brotli compression:\")\n",
    "    print(\"Input file size: {:.2f} MB\".format(original_size))\n",
    "    print(\"Compressed file size: {:.2f} MB\".format(brotli_size))\n",
    "    print(\"Reduction in size: {:.2f}%\".format(brotli_reduction))\n",
    "    print(\"Time taken: {:.4f} seconds\".format(brotli_time))\n",
    "    print(\"Upliftment in compression: {:.2f}%\".format(upliftment))\n",
    "\n",
    "# Example usage:\n",
    "input_file = \"D:\\Downloads\\sample-2mb-text-file.txt\"\n",
    "deflate_output_file = \"D:\\Downloads\\output.txt\"\n",
    "brotli_output_file = \"D:\\Downloads\\ouputbrotli.txt\"\n",
    "compress_and_encode_file(input_file, deflate_output_file, brotli_output_file)\n"
   ]
  }
 ],
 "metadata": {
  "kernelspec": {
   "display_name": "Python 3",
   "language": "python",
   "name": "python3"
  },
  "language_info": {
   "codemirror_mode": {
    "name": "ipython",
    "version": 3
   },
   "file_extension": ".py",
   "mimetype": "text/x-python",
   "name": "python",
   "nbconvert_exporter": "python",
   "pygments_lexer": "ipython3",
   "version": "3.10.11"
  },
  "orig_nbformat": 4
 },
 "nbformat": 4,
 "nbformat_minor": 2
}
